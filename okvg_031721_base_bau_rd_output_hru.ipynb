{
 "cells": [
  {
   "cell_type": "markdown",
   "metadata": {},
   "source": [
    "# Okavango_Scenario"
   ]
  },
  {
   "cell_type": "code",
   "execution_count": 1,
   "metadata": {
    "tags": []
   },
   "outputs": [
    {
     "output_type": "stream",
     "name": "stdout",
     "text": [
      "flopy is installed in C:\\Users\\seonggyu.park\\Miniconda3\\envs\\sm_pest\\lib\\site-packages\\flopy\n"
     ]
    }
   ],
   "source": [
    "import pandas as pd\n",
    "import numpy as np\n",
    "import matplotlib.pyplot as plt\n",
    "import os\n",
    "import sys\n",
    "import matplotlib.patches as patches\n",
    "from matplotlib.dates import date2num\n",
    "import matplotlib.dates as mdates\n",
    "from hydroeval import evaluator, nse, rmse, pbias\n",
    "from pyemu.pst.pst_utils import SFMT,IFMT,FFMT"
   ]
  },
  {
   "cell_type": "markdown",
   "metadata": {},
   "source": [
    "# Set Path"
   ]
  },
  {
   "cell_type": "code",
   "execution_count": 7,
   "metadata": {},
   "outputs": [],
   "source": [
    "wd_bau = \"D:/Projects/Watersheds/Okavango/scenarios/okvg_swatmf_scn_bau\"\n",
    "wd_base = \"D:/Projects/Watersheds/Okavango/scenarios/okvg_swatmf_calibrated_base\"\n",
    "wd_rd = \"D:/Projects/Watersheds/Okavango/scenarios/okvg_swatmf_scn_rd\"\n",
    "# os.chdir(wd)\n",
    "\n"
   ]
  },
  {
   "cell_type": "markdown",
   "metadata": {},
   "source": [
    "# Create Dataframe from output.hru"
   ]
  },
  {
   "cell_type": "code",
   "execution_count": 3,
   "metadata": {},
   "outputs": [],
   "source": [
    "colnum = 9\n",
    "colnam = 'IRRmm'\n",
    "ylabel = \"IRRmm\""
   ]
  },
  {
   "cell_type": "code",
   "execution_count": 8,
   "metadata": {},
   "outputs": [],
   "source": [
    "# Select subs\n",
    "subs = [63]\n",
    "\n",
    "# Create data with parameter change\n",
    "df_sub = pd.read_csv(\n",
    "                    os.path.join(wd_rd, \"output.hru\"),\n",
    "                    delim_whitespace=True,\n",
    "                    skiprows=9,\n",
    "                    usecols=[1, 3, 5, colnum],\n",
    "                    names=[\"hru\", \"sub\", \"filter\", colnam],\n",
    "                    # index_col=0,\n",
    "                    dtype={'filter': str},\n",
    "                    low_memory=False)"
   ]
  },
  {
   "cell_type": "code",
   "execution_count": 5,
   "metadata": {},
   "outputs": [
    {
     "output_type": "execute_result",
     "data": {
      "text/plain": [
       "          hru  sub          filter  IRRmm  filter_f\n",
       "268269   7510   63  2003.67246E-01    0.0    2003.0\n",
       "268270   7511   63  2003.13451E+00    0.0    2003.0\n",
       "268271   7512   63  2003.26900E+00    0.0    2003.0\n",
       "268272   7513   63  2003.20175E+00    0.0    2003.0\n",
       "268273   7514   63  2003.53802E+00    0.0    2003.0\n",
       "...       ...  ...             ...    ...       ...\n",
       "4788185  7586   63  2019.61137E+00    0.0    2019.0\n",
       "4788186  7587   63  2019.40758E+00    0.0    2019.0\n",
       "4788187  7588   63  2019.40758E+00    0.0    2019.0\n",
       "4788188  7589   63  2019.10189E+01    0.0    2019.0\n",
       "4788189  7590   63  2019.20378E+00    0.0    2019.0\n",
       "\n",
       "[1377 rows x 5 columns]"
      ],
      "text/html": "<div>\n<style scoped>\n    .dataframe tbody tr th:only-of-type {\n        vertical-align: middle;\n    }\n\n    .dataframe tbody tr th {\n        vertical-align: top;\n    }\n\n    .dataframe thead th {\n        text-align: right;\n    }\n</style>\n<table border=\"1\" class=\"dataframe\">\n  <thead>\n    <tr style=\"text-align: right;\">\n      <th></th>\n      <th>hru</th>\n      <th>sub</th>\n      <th>filter</th>\n      <th>IRRmm</th>\n      <th>filter_f</th>\n    </tr>\n  </thead>\n  <tbody>\n    <tr>\n      <th>268269</th>\n      <td>7510</td>\n      <td>63</td>\n      <td>2003.67246E-01</td>\n      <td>0.0</td>\n      <td>2003.0</td>\n    </tr>\n    <tr>\n      <th>268270</th>\n      <td>7511</td>\n      <td>63</td>\n      <td>2003.13451E+00</td>\n      <td>0.0</td>\n      <td>2003.0</td>\n    </tr>\n    <tr>\n      <th>268271</th>\n      <td>7512</td>\n      <td>63</td>\n      <td>2003.26900E+00</td>\n      <td>0.0</td>\n      <td>2003.0</td>\n    </tr>\n    <tr>\n      <th>268272</th>\n      <td>7513</td>\n      <td>63</td>\n      <td>2003.20175E+00</td>\n      <td>0.0</td>\n      <td>2003.0</td>\n    </tr>\n    <tr>\n      <th>268273</th>\n      <td>7514</td>\n      <td>63</td>\n      <td>2003.53802E+00</td>\n      <td>0.0</td>\n      <td>2003.0</td>\n    </tr>\n    <tr>\n      <th>...</th>\n      <td>...</td>\n      <td>...</td>\n      <td>...</td>\n      <td>...</td>\n      <td>...</td>\n    </tr>\n    <tr>\n      <th>4788185</th>\n      <td>7586</td>\n      <td>63</td>\n      <td>2019.61137E+00</td>\n      <td>0.0</td>\n      <td>2019.0</td>\n    </tr>\n    <tr>\n      <th>4788186</th>\n      <td>7587</td>\n      <td>63</td>\n      <td>2019.40758E+00</td>\n      <td>0.0</td>\n      <td>2019.0</td>\n    </tr>\n    <tr>\n      <th>4788187</th>\n      <td>7588</td>\n      <td>63</td>\n      <td>2019.40758E+00</td>\n      <td>0.0</td>\n      <td>2019.0</td>\n    </tr>\n    <tr>\n      <th>4788188</th>\n      <td>7589</td>\n      <td>63</td>\n      <td>2019.10189E+01</td>\n      <td>0.0</td>\n      <td>2019.0</td>\n    </tr>\n    <tr>\n      <th>4788189</th>\n      <td>7590</td>\n      <td>63</td>\n      <td>2019.20378E+00</td>\n      <td>0.0</td>\n      <td>2019.0</td>\n    </tr>\n  </tbody>\n</table>\n<p>1377 rows × 5 columns</p>\n</div>"
     },
     "metadata": {},
     "execution_count": 5
    }
   ],
   "source": [
    "df = df_sub.loc[df_sub['sub'] == 63]\n",
    "df = df[df.loc[:, \"filter\"].astype(str).map(len) == 14]\n",
    "df.loc[:, \"filter_f\"] = df.loc[:, \"filter\"].apply(lambda x: \"{}\".format(x[:4])).astype(float)\n",
    "df = df[df.loc[:, \"filter_f\"] != 17]\n",
    "df"
   ]
  },
  {
   "cell_type": "code",
   "execution_count": 6,
   "metadata": {},
   "outputs": [
    {
     "output_type": "execute_result",
     "data": {
      "text/plain": [
       "0.0"
      ]
     },
     "metadata": {},
     "execution_count": 6
    }
   ],
   "source": [
    "df['IRRmm'].sum()"
   ]
  },
  {
   "cell_type": "code",
   "execution_count": 227,
   "metadata": {},
   "outputs": [],
   "source": [
    "for i in hru_df.hru:\n",
    "    df['area(m2)'] = np.where((df['hru'] == i), hru_df['area(m2)'].loc[hru_df['hru'] == i], df['area(m2)'])\n",
    "df['irr(m3)'] = df['IRRmm']*0.001 * df['area(m2)']"
   ]
  },
  {
   "cell_type": "code",
   "execution_count": 205,
   "metadata": {},
   "outputs": [],
   "source": [
    "base_irr = df['irr(m3)'].sum()"
   ]
  },
  {
   "cell_type": "code",
   "execution_count": 214,
   "metadata": {},
   "outputs": [],
   "source": [
    "bau_irr = df['irr(m3)'].sum()"
   ]
  },
  {
   "cell_type": "code",
   "execution_count": 228,
   "metadata": {},
   "outputs": [],
   "source": [
    "rd_irr = df['irr(m3)'].sum()"
   ]
  },
  {
   "source": [
    "# BAU"
   ],
   "cell_type": "markdown",
   "metadata": {}
  },
  {
   "cell_type": "code",
   "execution_count": 215,
   "metadata": {},
   "outputs": [
    {
     "output_type": "execute_result",
     "data": {
      "text/plain": [
       "0.0"
      ]
     },
     "metadata": {},
     "execution_count": 215
    }
   ],
   "source": [
    "bau_irr"
   ]
  },
  {
   "cell_type": "code",
   "execution_count": 229,
   "metadata": {},
   "outputs": [
    {
     "output_type": "execute_result",
     "data": {
      "text/plain": [
       "4820498510.824501"
      ]
     },
     "metadata": {},
     "execution_count": 229
    }
   ],
   "source": [
    "rd_irr"
   ]
  },
  {
   "cell_type": "code",
   "execution_count": 222,
   "metadata": {},
   "outputs": [
    {
     "output_type": "execute_result",
     "data": {
      "text/plain": [
       "          hru  sub          filter  IRRmm  filter_f   area(m2)  irr(m3)\n",
       "268269   7510   63  2003.67246E-01    0.0    2003.0    67200.0      0.0\n",
       "268270   7511   63  2003.13451E+00    0.0    2003.0   134500.0      0.0\n",
       "268271   7512   63  2003.26900E+00    0.0    2003.0   269000.0      0.0\n",
       "268272   7513   63  2003.20175E+00    0.0    2003.0   201800.0      0.0\n",
       "268273   7514   63  2003.53802E+00    0.0    2003.0   538000.0      0.0\n",
       "...       ...  ...             ...    ...       ...        ...      ...\n",
       "4788185  7586   63  2019.61137E+00    0.0    2019.0   611400.0      0.0\n",
       "4788186  7587   63  2019.40758E+00    0.0    2019.0   407600.0      0.0\n",
       "4788187  7588   63  2019.40758E+00    0.0    2019.0   407600.0      0.0\n",
       "4788188  7589   63  2019.10189E+01    0.0    2019.0  1018900.0      0.0\n",
       "4788189  7590   63  2019.20378E+00    0.0    2019.0   203800.0      0.0\n",
       "\n",
       "[1377 rows x 7 columns]"
      ],
      "text/html": "<div>\n<style scoped>\n    .dataframe tbody tr th:only-of-type {\n        vertical-align: middle;\n    }\n\n    .dataframe tbody tr th {\n        vertical-align: top;\n    }\n\n    .dataframe thead th {\n        text-align: right;\n    }\n</style>\n<table border=\"1\" class=\"dataframe\">\n  <thead>\n    <tr style=\"text-align: right;\">\n      <th></th>\n      <th>hru</th>\n      <th>sub</th>\n      <th>filter</th>\n      <th>IRRmm</th>\n      <th>filter_f</th>\n      <th>area(m2)</th>\n      <th>irr(m3)</th>\n    </tr>\n  </thead>\n  <tbody>\n    <tr>\n      <th>268269</th>\n      <td>7510</td>\n      <td>63</td>\n      <td>2003.67246E-01</td>\n      <td>0.0</td>\n      <td>2003.0</td>\n      <td>67200.0</td>\n      <td>0.0</td>\n    </tr>\n    <tr>\n      <th>268270</th>\n      <td>7511</td>\n      <td>63</td>\n      <td>2003.13451E+00</td>\n      <td>0.0</td>\n      <td>2003.0</td>\n      <td>134500.0</td>\n      <td>0.0</td>\n    </tr>\n    <tr>\n      <th>268271</th>\n      <td>7512</td>\n      <td>63</td>\n      <td>2003.26900E+00</td>\n      <td>0.0</td>\n      <td>2003.0</td>\n      <td>269000.0</td>\n      <td>0.0</td>\n    </tr>\n    <tr>\n      <th>268272</th>\n      <td>7513</td>\n      <td>63</td>\n      <td>2003.20175E+00</td>\n      <td>0.0</td>\n      <td>2003.0</td>\n      <td>201800.0</td>\n      <td>0.0</td>\n    </tr>\n    <tr>\n      <th>268273</th>\n      <td>7514</td>\n      <td>63</td>\n      <td>2003.53802E+00</td>\n      <td>0.0</td>\n      <td>2003.0</td>\n      <td>538000.0</td>\n      <td>0.0</td>\n    </tr>\n    <tr>\n      <th>...</th>\n      <td>...</td>\n      <td>...</td>\n      <td>...</td>\n      <td>...</td>\n      <td>...</td>\n      <td>...</td>\n      <td>...</td>\n    </tr>\n    <tr>\n      <th>4788185</th>\n      <td>7586</td>\n      <td>63</td>\n      <td>2019.61137E+00</td>\n      <td>0.0</td>\n      <td>2019.0</td>\n      <td>611400.0</td>\n      <td>0.0</td>\n    </tr>\n    <tr>\n      <th>4788186</th>\n      <td>7587</td>\n      <td>63</td>\n      <td>2019.40758E+00</td>\n      <td>0.0</td>\n      <td>2019.0</td>\n      <td>407600.0</td>\n      <td>0.0</td>\n    </tr>\n    <tr>\n      <th>4788187</th>\n      <td>7588</td>\n      <td>63</td>\n      <td>2019.40758E+00</td>\n      <td>0.0</td>\n      <td>2019.0</td>\n      <td>407600.0</td>\n      <td>0.0</td>\n    </tr>\n    <tr>\n      <th>4788188</th>\n      <td>7589</td>\n      <td>63</td>\n      <td>2019.10189E+01</td>\n      <td>0.0</td>\n      <td>2019.0</td>\n      <td>1018900.0</td>\n      <td>0.0</td>\n    </tr>\n    <tr>\n      <th>4788189</th>\n      <td>7590</td>\n      <td>63</td>\n      <td>2019.20378E+00</td>\n      <td>0.0</td>\n      <td>2019.0</td>\n      <td>203800.0</td>\n      <td>0.0</td>\n    </tr>\n  </tbody>\n</table>\n<p>1377 rows × 7 columns</p>\n</div>"
     },
     "metadata": {},
     "execution_count": 222
    }
   ],
   "source": [
    "df"
   ]
  },
  {
   "cell_type": "code",
   "execution_count": null,
   "metadata": {},
   "outputs": [],
   "source": []
  }
 ],
 "metadata": {
  "language_info": {
   "codemirror_mode": {
    "name": "ipython",
    "version": 3
   },
   "file_extension": ".py",
   "mimetype": "text/x-python",
   "name": "python",
   "nbconvert_exporter": "python",
   "pygments_lexer": "ipython3",
   "version": "3.7.7"
  },
  "orig_nbformat": 2,
  "kernelspec": {
   "name": "python37764bitpestconda1f5f43502f614e839180bd67792904d1",
   "display_name": "Python 3.7.7 64-bit ('pest': conda)",
   "language": "python"
  }
 },
 "nbformat": 4,
 "nbformat_minor": 2
}