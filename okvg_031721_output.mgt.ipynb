{
 "cells": [
  {
   "cell_type": "markdown",
   "metadata": {},
   "source": [
    "# Okavango_Scenario"
   ]
  },
  {
   "cell_type": "code",
   "execution_count": 1,
   "metadata": {
    "tags": []
   },
   "outputs": [
    {
     "output_type": "stream",
     "name": "stdout",
     "text": [
      "flopy is installed in C:\\Users\\seonggyu.park\\Miniconda3\\envs\\sm_pest\\lib\\site-packages\\flopy\n"
     ]
    }
   ],
   "source": [
    "import pandas as pd\n",
    "import numpy as np\n",
    "import matplotlib.pyplot as plt\n",
    "import os\n",
    "import sys\n",
    "import matplotlib.patches as patches\n",
    "from matplotlib.dates import date2num\n",
    "import matplotlib.dates as mdates\n",
    "from hydroeval import evaluator, nse, rmse, pbias\n",
    "from pyemu.pst.pst_utils import SFMT,IFMT,FFMT"
   ]
  },
  {
   "cell_type": "markdown",
   "metadata": {},
   "source": [
    "# Set Path"
   ]
  },
  {
   "cell_type": "code",
   "execution_count": 11,
   "metadata": {},
   "outputs": [],
   "source": [
    "wd_base = \"D:/Projects/Watersheds/Okavango/scenarios/okvg_swatmf_calibrated_base\"\n",
    "wd_bau = \"D:/Projects/Watersheds/Okavango/scenarios/okvg_swatmf_scn_bau\"\n",
    "wd_rd = \"D:/Projects/Watersheds/Okavango/scenarios/okvg_swatmf_scn_rd\"\n",
    "# os.chdir(wd)\n",
    "\n"
   ]
  },
  {
   "cell_type": "markdown",
   "metadata": {},
   "source": [
    "# Create Dataframe from output.hru"
   ]
  },
  {
   "cell_type": "code",
   "execution_count": 12,
   "metadata": {},
   "outputs": [],
   "source": [
    "colnum = 9\n",
    "colnam = 'IRRmm'\n",
    "ylabel = \"IRRmm\""
   ]
  },
  {
   "source": [
    "# Read input.std to bring area and hru number"
   ],
   "cell_type": "markdown",
   "metadata": {}
  },
  {
   "cell_type": "code",
   "execution_count": null,
   "metadata": {},
   "outputs": [],
   "source": []
  }
 ],
 "metadata": {
  "language_info": {
   "codemirror_mode": {
    "name": "ipython",
    "version": 3
   },
   "file_extension": ".py",
   "mimetype": "text/x-python",
   "name": "python",
   "nbconvert_exporter": "python",
   "pygments_lexer": "ipython3",
   "version": "3.7.7-final"
  },
  "orig_nbformat": 2,
  "kernelspec": {
   "name": "python37764bitpestconda1f5f43502f614e839180bd67792904d1",
   "display_name": "Python 3.7.7 64-bit ('pest': conda)",
   "language": "python"
  }
 },
 "nbformat": 4,
 "nbformat_minor": 2
}