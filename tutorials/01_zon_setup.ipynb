{
 "cells": [
  {
   "cell_type": "markdown",
   "id": "1cc50204",
   "metadata": {},
   "source": [
    "# 1. Let's import necessary libraries"
   ]
  },
  {
   "cell_type": "code",
   "execution_count": 11,
   "id": "848f2a87",
   "metadata": {},
   "outputs": [],
   "source": [
    "import pyemu\n",
    "import os\n",
    "import warnings\n",
    "warnings.filterwarnings(\"ignore\")\n",
    "warnings.filterwarnings(\"ignore\", category=DeprecationWarning) \n",
    "import pandas as pd\n",
    "import matplotlib.pyplot as plt\n",
    "import psutil\n",
    "import shutil\n",
    "import numpy as np\n",
    "import sys\n",
    "import flopy"
   ]
  },
  {
   "cell_type": "markdown",
   "id": "ea251d91-4d5e-4811-85ee-2697bf7057dc",
   "metadata": {},
   "source": [
    "## work with the latest version of swatmf"
   ]
  },
  {
   "cell_type": "code",
   "execution_count": 2,
   "id": "8fa35c62-0721-43af-8283-45d4e8b3908f",
   "metadata": {},
   "outputs": [],
   "source": [
    "path = os.path.abspath(os.path.join(os.getcwd(), os.pardir))\n",
    "sys.path.insert(1, path)\n",
    "from swatmf import swatmf_pst_utils"
   ]
  },
  {
   "cell_type": "markdown",
   "id": "22a8da66",
   "metadata": {},
   "source": [
    "# 2. Set up and write swatmf.con file"
   ]
  },
  {
   "cell_type": "code",
   "execution_count": 3,
   "id": "7d76b1e7",
   "metadata": {},
   "outputs": [
    {
     "data": {
      "text/plain": [
       "\u001b[1;31mSignature:\u001b[0m\n",
       "\u001b[0mswatmf_pst_utils\u001b[0m\u001b[1;33m.\u001b[0m\u001b[0mcreate_swatmf_con\u001b[0m\u001b[1;33m(\u001b[0m\u001b[1;33m\n",
       "\u001b[0m    \u001b[0mwd\u001b[0m\u001b[1;33m,\u001b[0m\u001b[1;33m\n",
       "\u001b[0m    \u001b[0msim_start\u001b[0m\u001b[1;33m,\u001b[0m\u001b[1;33m\n",
       "\u001b[0m    \u001b[0mwarmup\u001b[0m\u001b[1;33m,\u001b[0m\u001b[1;33m\n",
       "\u001b[0m    \u001b[0mcal_start\u001b[0m\u001b[1;33m,\u001b[0m\u001b[1;33m\n",
       "\u001b[0m    \u001b[0mcal_end\u001b[0m\u001b[1;33m,\u001b[0m\u001b[1;33m\n",
       "\u001b[0m    \u001b[0msubs\u001b[0m\u001b[1;33m=\u001b[0m\u001b[1;32mNone\u001b[0m\u001b[1;33m,\u001b[0m\u001b[1;33m\n",
       "\u001b[0m    \u001b[0mgrids\u001b[0m\u001b[1;33m=\u001b[0m\u001b[1;32mNone\u001b[0m\u001b[1;33m,\u001b[0m\u001b[1;33m\n",
       "\u001b[0m    \u001b[0mriv_parm\u001b[0m\u001b[1;33m=\u001b[0m\u001b[1;32mNone\u001b[0m\u001b[1;33m,\u001b[0m\u001b[1;33m\n",
       "\u001b[0m    \u001b[0mbaseflow\u001b[0m\u001b[1;33m=\u001b[0m\u001b[1;32mNone\u001b[0m\u001b[1;33m,\u001b[0m\u001b[1;33m\n",
       "\u001b[0m    \u001b[0mtime_step\u001b[0m\u001b[1;33m=\u001b[0m\u001b[1;32mNone\u001b[0m\u001b[1;33m,\u001b[0m\u001b[1;33m\n",
       "\u001b[0m    \u001b[0mdepth_to_water\u001b[0m\u001b[1;33m=\u001b[0m\u001b[1;32mNone\u001b[0m\u001b[1;33m,\u001b[0m\u001b[1;33m\n",
       "\u001b[0m    \u001b[0mpp_included\u001b[0m\u001b[1;33m=\u001b[0m\u001b[1;32mNone\u001b[0m\u001b[1;33m,\u001b[0m\u001b[1;33m\n",
       "\u001b[0m\u001b[1;33m)\u001b[0m\u001b[1;33m\u001b[0m\u001b[1;33m\u001b[0m\u001b[0m\n",
       "\u001b[1;31mDocstring:\u001b[0m\n",
       "create swatmf.con file containg SWAT-MODFLOW model PEST initial settings\n",
       "\n",
       "Args:\n",
       "    wd (`str`): SWAT-MODFLOW working directory\n",
       "    subs (`list`): reach numbers to be extracted\n",
       "    grids (`list`): grid numbers to be extracted\n",
       "    sim_start (`str`): simulation start date e.g. '1/1/2000'\n",
       "    warmup(`int`): warm-up period\n",
       "    cal_start (`str`): calibration start date e.g., '1/1/2001'\n",
       "    cal_end (`str`): calibration end date e.g., '12/31/2005'\n",
       "    time_step (`str`, optional): model time step. Defaults to None ('day'). e.g., 'day', 'month', 'year'\n",
       "    riv_parm (`str`, optional): river parameter activation. Defaults to None ('n').\n",
       "    depth_to_water (`str`, optional): extracting simulated depth to water activation. Defaults to None ('n').\n",
       "    baseflow (`str`, optional): extracting baseflow ratio activation. Defaults to None ('n').\n",
       "\n",
       "Returns:\n",
       "    dataframe: return SWAT-MODFLOW PEST configure settings as dataframe and exporting it as swatmf.con file.\n",
       "\u001b[1;31mFile:\u001b[0m      d:\\spark-brc_gits\\swatmf_git\\swatmf\\swatmf_pst_utils.py\n",
       "\u001b[1;31mType:\u001b[0m      function"
      ]
     },
     "metadata": {},
     "output_type": "display_data"
    }
   ],
   "source": [
    "swatmf_pst_utils.create_swatmf_con?"
   ]
  },
  {
   "cell_type": "code",
   "execution_count": 4,
   "id": "fc1328a1",
   "metadata": {},
   "outputs": [],
   "source": [
    "# time step\n",
    "time_step = 'day'\n",
    "\n",
    "# extract depth_to_water (what our targets)\n",
    "depth_to_water = 'y'\n",
    "\n",
    "# locations\n",
    "subs = [58]\n",
    "grids = [501]\n",
    "\n",
    "# calibration period\n",
    "sim_start = '1/1/1985'\n",
    "cal_start = '1/1/1985'\n",
    "cal_end = '12/31/1985'"
   ]
  },
  {
   "cell_type": "code",
   "execution_count": 5,
   "id": "a3d4c005-6a91-43dc-a4d1-17ea2a25514e",
   "metadata": {},
   "outputs": [],
   "source": [
    "# working directory\n",
    "swatmf_model = \"D:/test/middle_bosque_1000/SWAT-MODFLOW\"\n",
    "swat_model = \"D:/test/middle_bosque_1000/SWAT\""
   ]
  },
  {
   "cell_type": "code",
   "execution_count": 6,
   "id": "393fe07c",
   "metadata": {},
   "outputs": [
    {
     "data": {
      "text/html": [
       "<div>\n",
       "<style scoped>\n",
       "    .dataframe tbody tr th:only-of-type {\n",
       "        vertical-align: middle;\n",
       "    }\n",
       "\n",
       "    .dataframe tbody tr th {\n",
       "        vertical-align: top;\n",
       "    }\n",
       "\n",
       "    .dataframe thead th {\n",
       "        text-align: right;\n",
       "    }\n",
       "</style>\n",
       "<table border=\"1\" class=\"dataframe\">\n",
       "  <thead>\n",
       "    <tr style=\"text-align: right;\">\n",
       "      <th></th>\n",
       "      <th>names</th>\n",
       "      <th>vals</th>\n",
       "    </tr>\n",
       "  </thead>\n",
       "  <tbody>\n",
       "    <tr>\n",
       "      <th>0</th>\n",
       "      <td>wd</td>\n",
       "      <td>D:/test/middle_bosque_1000/SWAT-MODFLOW</td>\n",
       "    </tr>\n",
       "    <tr>\n",
       "      <th>1</th>\n",
       "      <td>sim_start</td>\n",
       "      <td>[58]</td>\n",
       "    </tr>\n",
       "    <tr>\n",
       "      <th>2</th>\n",
       "      <td>warm-up</td>\n",
       "      <td>[501]</td>\n",
       "    </tr>\n",
       "    <tr>\n",
       "      <th>3</th>\n",
       "      <td>cal_start</td>\n",
       "      <td>1/1/1985</td>\n",
       "    </tr>\n",
       "    <tr>\n",
       "      <th>4</th>\n",
       "      <td>cal_end</td>\n",
       "      <td>1/1/1985</td>\n",
       "    </tr>\n",
       "    <tr>\n",
       "      <th>5</th>\n",
       "      <td>subs</td>\n",
       "      <td>12/31/1985</td>\n",
       "    </tr>\n",
       "    <tr>\n",
       "      <th>6</th>\n",
       "      <td>grids</td>\n",
       "      <td>n</td>\n",
       "    </tr>\n",
       "    <tr>\n",
       "      <th>7</th>\n",
       "      <td>riv_parm</td>\n",
       "      <td>n</td>\n",
       "    </tr>\n",
       "    <tr>\n",
       "      <th>8</th>\n",
       "      <td>baseflow</td>\n",
       "      <td>n</td>\n",
       "    </tr>\n",
       "    <tr>\n",
       "      <th>9</th>\n",
       "      <td>time_step</td>\n",
       "      <td>day</td>\n",
       "    </tr>\n",
       "    <tr>\n",
       "      <th>10</th>\n",
       "      <td>pp_included</td>\n",
       "      <td>n</td>\n",
       "    </tr>\n",
       "    <tr>\n",
       "      <th>11</th>\n",
       "      <td>depth_to_water</td>\n",
       "      <td>y</td>\n",
       "    </tr>\n",
       "  </tbody>\n",
       "</table>\n",
       "</div>"
      ],
      "text/plain": [
       "             names                                     vals\n",
       "0               wd  D:/test/middle_bosque_1000/SWAT-MODFLOW\n",
       "1        sim_start                                     [58]\n",
       "2          warm-up                                    [501]\n",
       "3        cal_start                                 1/1/1985\n",
       "4          cal_end                                 1/1/1985\n",
       "5             subs                               12/31/1985\n",
       "6            grids                                        n\n",
       "7         riv_parm                                        n\n",
       "8         baseflow                                        n\n",
       "9        time_step                                      day\n",
       "10     pp_included                                        n\n",
       "11  depth_to_water                                        y"
      ]
     },
     "execution_count": 6,
     "metadata": {},
     "output_type": "execute_result"
    }
   ],
   "source": [
    "swatmf_pst_utils.create_swatmf_con(swatmf_model, subs, grids, sim_start, cal_start, cal_end, depth_to_water=depth_to_water)"
   ]
  },
  {
   "cell_type": "markdown",
   "id": "714b9f31",
   "metadata": {},
   "source": [
    "## 2.1 PEST initial setup"
   ]
  },
  {
   "cell_type": "code",
   "execution_count": 9,
   "id": "893b1e17",
   "metadata": {},
   "outputs": [
    {
     "name": "stdout",
     "output_type": "stream",
     "text": [
      " Creating 'backup' folder ...\r"
     ]
    },
    {
     "name": "stderr",
     "output_type": "stream",
     "text": [
      "100%|███████████████████████████████████████████████████████████████████████████| 12300/12300 [02:02<00:00, 100.59it/s]"
     ]
    },
    {
     "name": "stdout",
     "output_type": "stream",
     "text": [
      " Creating 'backup' folder ...\u001b[32m passed\u001b[0m\n",
      " Creating 'echo' folder ...\u001b[32m passed\u001b[0m\n",
      " Creating 'sufi2.in' folder ...\u001b[32m passed\u001b[0m\n",
      " 'i64pwtadj1.exe' file copied ...\u001b[32m passed\u001b[0m\n",
      " 'pestpp-glm.exe' file copied ...\u001b[32m passed\u001b[0m\n",
      " 'pestpp-ies.exe' file copied ...\u001b[32m passed\u001b[0m\n",
      " 'pestpp-opt.exe' file copied ...\u001b[32m passed\u001b[0m\n",
      " 'pestpp-sen.exe' file copied ...\u001b[32m passed\u001b[0m\n",
      " 'SUFI2_LH_sample.exe' file copied ...\u001b[32m passed\u001b[0m\n",
      " 'Swat_Edit.exe' file copied ...\u001b[32m passed\u001b[0m\n"
     ]
    },
    {
     "name": "stderr",
     "output_type": "stream",
     "text": [
      "\n"
     ]
    }
   ],
   "source": [
    "# copy all necessary files (exes) to your working direcotry\n",
    "swatmf_pst_utils.init_setup(swatmf_model, swat_model)"
   ]
  },
  {
   "cell_type": "code",
   "execution_count": 13,
   "id": "81c68d35",
   "metadata": {},
   "outputs": [
    {
     "name": "stdout",
     "output_type": "stream",
     "text": [
      "\n",
      "modflow MODEL DATA VALIDATION SUMMARY:\n",
      "  8 Errors:\n",
      "    DIS package: thin cells (less than checker threshold of 1.0)\n",
      "    RIV package: rbot below cell bottom\n",
      "  3 Warnings:\n",
      "    OC package: action(s) defined in OC stress_period_data ignored as they are not part the stress periods defined by DIS\n",
      "    RCH package: Mean R/T ratio < checker warning threshold of 2e-08 for 1 stress periods\n",
      "    RCH package: Variable NRCHOP set to value other than 3\n",
      "\n",
      "  Checks that passed:\n",
      "    Unit number conflicts\n",
      "    Compatible solver package\n",
      "    DIS package: zero or negative thickness\n",
      "    DIS package: nan values in top array\n",
      "    DIS package: nan values in bottom array\n",
      "    BAS6 package: isolated cells in ibound array\n",
      "    BAS6 package: Not a number\n",
      "    UPW package: zero or negative horizontal hydraulic conductivity values\n",
      "    UPW package: zero or negative vertical hydraulic conductivity values\n",
      "    UPW package: negative horizontal anisotropy values\n",
      "    UPW package: horizontal hydraulic conductivity values below checker threshold of 1e-11\n",
      "    UPW package: horizontal hydraulic conductivity values above checker threshold of 100000.0\n",
      "    UPW package: vertical hydraulic conductivity values below checker threshold of 1e-11\n",
      "    UPW package: vertical hydraulic conductivity values above checker threshold of 100000.0\n",
      "    UPW package: zero or negative specific storage values\n",
      "    UPW package: specific storage values below checker threshold of 1e-06\n",
      "    UPW package: specific storage values above checker threshold of 0.01\n",
      "    UPW package: zero or negative specific yield values\n",
      "    UPW package: specific yield values below checker threshold of 0.01\n",
      "    UPW package: specific yield values above checker threshold of 0.5\n",
      "    RIV package: stage below cell bottom\n",
      "    RIV package: RIV stage below rbots\n",
      "\n"
     ]
    },
    {
     "data": {
      "text/plain": [
       "<flopy.utils.check.check at 0x15e0b50abf0>"
      ]
     },
     "execution_count": 13,
     "metadata": {},
     "output_type": "execute_result"
    }
   ],
   "source": [
    "# check MODFLOW model\n",
    "mname = \"modflow.mfn\"\n",
    "m = flopy.modflow.Modflow.load(mname,model_ws=swatmf_model)\n",
    "m.check()"
   ]
  },
  {
   "cell_type": "markdown",
   "id": "18db09eb",
   "metadata": {},
   "source": [
    "# 3. Build template files"
   ]
  },
  {
   "cell_type": "code",
   "execution_count": 14,
   "id": "0aa3578e",
   "metadata": {},
   "outputs": [],
   "source": [
    "os.chdir(swatmf_model)"
   ]
  },
  {
   "cell_type": "markdown",
   "id": "bf9c306a",
   "metadata": {},
   "source": [
    "## 3.1 MODFLOW pval"
   ]
  },
  {
   "cell_type": "code",
   "execution_count": 15,
   "id": "8c062805",
   "metadata": {},
   "outputs": [],
   "source": [
    "# pval file\n",
    "pval_file = 'mf_1000.pval'"
   ]
  },
  {
   "cell_type": "code",
   "execution_count": 16,
   "id": "e3c42826",
   "metadata": {},
   "outputs": [
    {
     "data": {
      "text/html": [
       "<div>\n",
       "<style scoped>\n",
       "    .dataframe tbody tr th:only-of-type {\n",
       "        vertical-align: middle;\n",
       "    }\n",
       "\n",
       "    .dataframe tbody tr th {\n",
       "        vertical-align: top;\n",
       "    }\n",
       "\n",
       "    .dataframe thead th {\n",
       "        text-align: right;\n",
       "    }\n",
       "</style>\n",
       "<table border=\"1\" class=\"dataframe\">\n",
       "  <thead>\n",
       "    <tr style=\"text-align: right;\">\n",
       "      <th></th>\n",
       "      <th>parnme</th>\n",
       "      <th>parval1</th>\n",
       "      <th>tpl</th>\n",
       "    </tr>\n",
       "    <tr>\n",
       "      <th>parnme</th>\n",
       "      <th></th>\n",
       "      <th></th>\n",
       "      <th></th>\n",
       "    </tr>\n",
       "  </thead>\n",
       "  <tbody>\n",
       "    <tr>\n",
       "      <th>hk01</th>\n",
       "      <td>hk01</td>\n",
       "      <td>1.00</td>\n",
       "      <td>~   hk01              ~</td>\n",
       "    </tr>\n",
       "    <tr>\n",
       "      <th>hk02</th>\n",
       "      <td>hk02</td>\n",
       "      <td>1.00</td>\n",
       "      <td>~   hk02              ~</td>\n",
       "    </tr>\n",
       "    <tr>\n",
       "      <th>sy01</th>\n",
       "      <td>sy01</td>\n",
       "      <td>0.01</td>\n",
       "      <td>~   sy01              ~</td>\n",
       "    </tr>\n",
       "    <tr>\n",
       "      <th>sy02</th>\n",
       "      <td>sy02</td>\n",
       "      <td>0.01</td>\n",
       "      <td>~   sy02              ~</td>\n",
       "    </tr>\n",
       "  </tbody>\n",
       "</table>\n",
       "</div>"
      ],
      "text/plain": [
       "       parnme  parval1                       tpl\n",
       "parnme                                          \n",
       "hk01     hk01     1.00   ~   hk01              ~\n",
       "hk02     hk02     1.00   ~   hk02              ~\n",
       "sy01     sy01     0.01   ~   sy01              ~\n",
       "sy02     sy02     0.01   ~   sy02              ~"
      ]
     },
     "execution_count": 16,
     "metadata": {},
     "output_type": "execute_result"
    }
   ],
   "source": [
    "gw_par = pyemu.utils.gw_utils.modflow_pval_to_template_file(pval_file, tpl_file=None)\n",
    "gw_par"
   ]
  },
  {
   "cell_type": "markdown",
   "id": "eadabb62",
   "metadata": {},
   "source": [
    "## 3.2 SWAT model.in file"
   ]
  },
  {
   "cell_type": "code",
   "execution_count": 17,
   "id": "6bd0545f",
   "metadata": {},
   "outputs": [
    {
     "data": {
      "text/html": [
       "<div>\n",
       "<style scoped>\n",
       "    .dataframe tbody tr th:only-of-type {\n",
       "        vertical-align: middle;\n",
       "    }\n",
       "\n",
       "    .dataframe tbody tr th {\n",
       "        vertical-align: top;\n",
       "    }\n",
       "\n",
       "    .dataframe thead th {\n",
       "        text-align: right;\n",
       "    }\n",
       "</style>\n",
       "<table border=\"1\" class=\"dataframe\">\n",
       "  <thead>\n",
       "    <tr style=\"text-align: right;\">\n",
       "      <th></th>\n",
       "      <th>parnme</th>\n",
       "      <th>parval1</th>\n",
       "      <th>tpl</th>\n",
       "    </tr>\n",
       "    <tr>\n",
       "      <th>parnme</th>\n",
       "      <th></th>\n",
       "      <th></th>\n",
       "      <th></th>\n",
       "    </tr>\n",
       "  </thead>\n",
       "  <tbody>\n",
       "    <tr>\n",
       "      <th>r__CN2.mgt</th>\n",
       "      <td>r__CN2.mgt</td>\n",
       "      <td>0.001</td>\n",
       "      <td>~   CN2               ~</td>\n",
       "    </tr>\n",
       "    <tr>\n",
       "      <th>r__SOL_AWC().sol</th>\n",
       "      <td>r__SOL_AWC().sol</td>\n",
       "      <td>0.001</td>\n",
       "      <td>~   SOL_AWC()         ~</td>\n",
       "    </tr>\n",
       "    <tr>\n",
       "      <th>v__ESCO.hru</th>\n",
       "      <td>v__ESCO.hru</td>\n",
       "      <td>0.001</td>\n",
       "      <td>~   ESCO              ~</td>\n",
       "    </tr>\n",
       "  </tbody>\n",
       "</table>\n",
       "</div>"
      ],
      "text/plain": [
       "                            parnme  parval1                       tpl\n",
       "parnme                                                               \n",
       "r__CN2.mgt              r__CN2.mgt    0.001   ~   CN2               ~\n",
       "r__SOL_AWC().sol  r__SOL_AWC().sol    0.001   ~   SOL_AWC()         ~\n",
       "v__ESCO.hru            v__ESCO.hru    0.001   ~   ESCO              ~"
      ]
     },
     "execution_count": 17,
     "metadata": {},
     "output_type": "execute_result"
    }
   ],
   "source": [
    "# model.in file used\n",
    "\n",
    "sw_par = swatmf_pst_utils.model_in_to_template_file()\n",
    "sw_par"
   ]
  },
  {
   "cell_type": "markdown",
   "id": "8f0eb2b2",
   "metadata": {},
   "source": [
    "# 4. Build instruction files"
   ]
  },
  {
   "cell_type": "markdown",
   "id": "ac4903cf-247a-4929-8e4f-14570fde674e",
   "metadata": {},
   "source": [
    "### Let's do initial run!"
   ]
  },
  {
   "cell_type": "markdown",
   "id": "ce76961c",
   "metadata": {},
   "source": [
    "## 4.1 Streamflow (SWAT)"
   ]
  },
  {
   "cell_type": "code",
   "execution_count": null,
   "id": "5e738ea9",
   "metadata": {},
   "outputs": [],
   "source": [
    "# extract daily stream discharge\n",
    "swatmf_pst_utils.extract_day_stf(subs, sim_start, cal_start, cal_end)"
   ]
  },
  {
   "cell_type": "markdown",
   "id": "62748b00",
   "metadata": {},
   "source": [
    "## 4.2 match it with stf_obd file (SWAT)"
   ]
  },
  {
   "cell_type": "code",
   "execution_count": null,
   "id": "2439ccf0",
   "metadata": {},
   "outputs": [],
   "source": [
    "swatmf_pst_utils.stf_obd_to_ins('str_058.txt', 'rch058',cal_start, cal_end)"
   ]
  },
  {
   "cell_type": "markdown",
   "id": "2dcd0109",
   "metadata": {},
   "source": [
    "## 4.3 Depth to watertable (MODFLOW) "
   ]
  },
  {
   "cell_type": "code",
   "execution_count": null,
   "id": "17eb7144",
   "metadata": {},
   "outputs": [],
   "source": [
    "swatmf_pst_utils.extract_depth_to_water(grids, sim_start, cal_end)"
   ]
  },
  {
   "cell_type": "markdown",
   "id": "d8b70176",
   "metadata": {},
   "source": [
    "## 4.4 match it with dtw_obd file (MODFLOW)"
   ]
  },
  {
   "cell_type": "code",
   "execution_count": null,
   "id": "60cab2c9",
   "metadata": {},
   "outputs": [],
   "source": [
    "swatmf_pst_utils.mf_obd_to_ins('dtw_501.txt', 'g_5699', cal_start, cal_end)"
   ]
  },
  {
   "cell_type": "markdown",
   "id": "ff674ea0",
   "metadata": {},
   "source": [
    "# 5. Create PEST control file"
   ]
  },
  {
   "cell_type": "code",
   "execution_count": null,
   "id": "61efa9f4",
   "metadata": {},
   "outputs": [],
   "source": [
    "io_files = pyemu.helpers.parse_dir_for_io_files('.')\n",
    "pst = pyemu.Pst.from_io_files(*io_files)\n",
    "pyemu.helpers.pst_from_io_files(io_files[0], io_files[1], io_files[2], io_files[3], 'mb_dummy.pst')"
   ]
  },
  {
   "cell_type": "code",
   "execution_count": null,
   "id": "db69059b",
   "metadata": {},
   "outputs": [],
   "source": [
    "par = pst.parameter_data\n",
    "par"
   ]
  },
  {
   "cell_type": "markdown",
   "id": "ed279c0d",
   "metadata": {},
   "source": [
    "## 5.1 Assign parameter group name"
   ]
  },
  {
   "cell_type": "code",
   "execution_count": null,
   "id": "352c1249",
   "metadata": {},
   "outputs": [],
   "source": [
    "for i in range(len(par)):\n",
    "    if (par.iloc[i, 0][:2]) == 'sy':\n",
    "        par.iloc[i, 6] = 'sy'\n",
    "    elif par.iloc[i, 0][:7] == 'rivbot_':\n",
    "        par.iloc[i, 6] = 'rivbot'\n",
    "    elif par.iloc[i, 0][:6] == 'rivcd_':\n",
    "        par.iloc[i, 6] = 'rivcd'\n",
    "    elif par.iloc[i, 0][:2] == 'hk':\n",
    "        par.iloc[i, 6] = 'hk'\n",
    "    else:\n",
    "        par.iloc[i, 6] = 'swat'\n",
    "print(par)"
   ]
  },
  {
   "cell_type": "markdown",
   "id": "19afbee2",
   "metadata": {},
   "source": [
    "## 5.2 Adjust initial parameter values and their ranges"
   ]
  },
  {
   "cell_type": "code",
   "execution_count": null,
   "id": "61297566",
   "metadata": {},
   "outputs": [],
   "source": [
    "count = 0\n",
    "for i in range(len(par)):\n",
    "    if (par.iloc[i, 6] == 'hk'):\n",
    "        par.iloc[i, 3] = 1  \n",
    "        par.iloc[i, 4] = 1.000000e-02\n",
    "        par.iloc[i, 5] = 1.000000e+02\n",
    "    elif (par.iloc[i, 6] == 'sy'):\n",
    "        par.iloc[i, 3] = 1.000000e-02       \n",
    "        par.iloc[i, 4] = 1.000000e-04\n",
    "        par.iloc[i, 5] = 0.6  \n",
    "    elif (par.iloc[i, 6] == 'rivbot'):\n",
    "        par.iloc[i, 3] = 3.001     \n",
    "        par.iloc[i, 4] = 0.001\n",
    "        par.iloc[i, 5] = 6\n",
    "        par.iloc[i, 8] = -3\n",
    "    elif (par.iloc[i, 6] == 'rivcd'):\n",
    "        par.iloc[i, 3] = 50.001       \n",
    "        par.iloc[i, 4] = 0.001\n",
    "        par.iloc[i, 5] = 100\n",
    "        par.iloc[i, 8] = -50\n",
    "    else:\n",
    "        count += 1\n",
    "count"
   ]
  },
  {
   "cell_type": "code",
   "execution_count": null,
   "id": "0a328615",
   "metadata": {},
   "outputs": [],
   "source": [
    "# CN2\n",
    "par.loc['cn2', 'parval1'] = 1.001\n",
    "par.loc['cn2', 'parlbnd'] = 0.8\n",
    "par.loc['cn2', 'parubnd'] = 1.2\n",
    "par.loc['cn2', 'offset'] = -1\n",
    "\n",
    "# ESCO\n",
    "par.loc['esco', 'parval1'] = 1.001\n",
    "par.loc['esco', 'parlbnd'] = 0.5\n",
    "par.loc['esco', 'parubnd'] = 1.5\n",
    "par.loc['esco', 'offset'] = -1\n",
    "\n",
    "# sol_awc()\n",
    "par.loc['sol_awc()', 'parval1'] = 1.001\n",
    "par.loc['sol_awc()', 'parlbnd'] = 0.5\n",
    "par.loc['sol_awc()', 'parubnd'] = 1.5\n",
    "par.loc['sol_awc()', 'offset'] = -1\n"
   ]
  },
  {
   "cell_type": "markdown",
   "id": "6d487bbc",
   "metadata": {},
   "source": [
    "## 5.3 Assign parameter group name"
   ]
  },
  {
   "cell_type": "code",
   "execution_count": null,
   "id": "22b93418",
   "metadata": {},
   "outputs": [],
   "source": [
    "# set observation group\n",
    "obd = pst.observation_data\n",
    "obd"
   ]
  },
  {
   "cell_type": "code",
   "execution_count": null,
   "id": "78f4acaf",
   "metadata": {},
   "outputs": [],
   "source": [
    "# Change obd group name\n",
    "for i in range(len(obd)):\n",
    "    obd.iloc[i, 3] = obd.iloc[i, 0][:-9]\n",
    "obd"
   ]
  },
  {
   "cell_type": "markdown",
   "id": "9c68a859",
   "metadata": {},
   "source": [
    "## 5.4 Provide actual observed values to control file"
   ]
  },
  {
   "cell_type": "code",
   "execution_count": null,
   "id": "ac9f8086",
   "metadata": {},
   "outputs": [],
   "source": [
    "# Streamflow\n",
    "stf_obd = pd.read_csv('stf_day.obd',\n",
    "                       sep='/t',\n",
    "                       index_col = 0,\n",
    "                       parse_dates = True,\n",
    "                       na_values=[-999, '']\n",
    "                     )\n",
    "stf_obd = stf_obd[cal_start: cal_end]\n",
    "stf_obd"
   ]
  },
  {
   "cell_type": "code",
   "execution_count": null,
   "id": "4f06f8fd",
   "metadata": {},
   "outputs": [],
   "source": [
    "# watertable\n",
    "dtw_obd = pd.read_csv('dtw_day.obd',\n",
    "                       sep='/t',\n",
    "                       index_col = 0,\n",
    "                       parse_dates = True,\n",
    "                       na_values=[-999, '']\n",
    "                     )\n",
    "dtw_obd = dtw_obd[cal_start: cal_end]\n",
    "dtw_obd"
   ]
  },
  {
   "cell_type": "code",
   "execution_count": null,
   "id": "519bf837",
   "metadata": {},
   "outputs": [],
   "source": [
    "# Get sub list based on obd order\n",
    "obd_order = []\n",
    "for i in obd.obgnme.tolist():\n",
    "    if i not in obd_order:\n",
    "        obd_order.append(i)\n",
    "obd_order"
   ]
  },
  {
   "cell_type": "code",
   "execution_count": null,
   "id": "883af98d",
   "metadata": {},
   "outputs": [],
   "source": [
    "# get total list from each sub obd, delete na vals\n",
    "tot_obd = []\n",
    "for i in obd_order[:1]:\n",
    "    tot_obd += dtw_obd[i].dropna().tolist()\n",
    "    print(i)\n",
    "for i in obd_order[1:]:\n",
    "    tot_obd += stf_obd[i].dropna().tolist()\n",
    "    print(i)\n",
    "len(tot_obd)"
   ]
  },
  {
   "cell_type": "code",
   "execution_count": null,
   "id": "41d4fde8",
   "metadata": {},
   "outputs": [],
   "source": [
    "obd.loc[:, 'obsval'] = tot_obd\n",
    "obd"
   ]
  },
  {
   "cell_type": "markdown",
   "id": "617e031f",
   "metadata": {},
   "source": [
    "# 6. Create new control file with settings"
   ]
  },
  {
   "cell_type": "code",
   "execution_count": null,
   "id": "e91330b7",
   "metadata": {},
   "outputs": [],
   "source": [
    "pst.control_data.noptmax=0\n",
    "pst.model_command = 'python forward_run.py'"
   ]
  },
  {
   "cell_type": "code",
   "execution_count": null,
   "id": "fcc3a4cd",
   "metadata": {
    "scrolled": true
   },
   "outputs": [],
   "source": [
    "pst.write('mb_pest.pst')"
   ]
  },
  {
   "cell_type": "code",
   "execution_count": null,
   "id": "44db71da",
   "metadata": {},
   "outputs": [],
   "source": []
  }
 ],
 "metadata": {
  "kernelspec": {
   "display_name": "Python 3 (ipykernel)",
   "language": "python",
   "name": "python3"
  },
  "language_info": {
   "codemirror_mode": {
    "name": "ipython",
    "version": 3
   },
   "file_extension": ".py",
   "mimetype": "text/x-python",
   "name": "python",
   "nbconvert_exporter": "python",
   "pygments_lexer": "ipython3",
   "version": "3.10.12"
  }
 },
 "nbformat": 4,
 "nbformat_minor": 5
}
